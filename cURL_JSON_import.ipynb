{
 "cells": [
  {
   "cell_type": "code",
   "execution_count": 120,
   "id": "b2019c08",
   "metadata": {},
   "outputs": [],
   "source": [
    "import json\n",
    "import os\n",
    "import pandas as pd"
   ]
  },
  {
   "cell_type": "code",
   "execution_count": 114,
   "id": "39e2d655",
   "metadata": {},
   "outputs": [],
   "source": [
    "url_compositions = 'https://rata.digitraffic.fi/api/v1/compositions'\n",
    "data_directory = '/home/felbus/ml_for_physicists/open_rail/Fin_Rail_analysis/'\n",
    "file_name = 'test.gz'\n",
    "\n",
    "def cURL(url, *options):\n",
    "    '''Function will call curl on the system. \n",
    "    \n",
    "    Parameters:\n",
    "    url: <string> URL to be called by cURL\n",
    "    *options: <string> optional arguments passed to cURL-call\n",
    "    \n",
    "    Returns: \n",
    "    os.system call (cURL command)\n",
    "    '''    \n",
    "    opt_string = str() #init string and concatenate all optinal arguments, seperator: whitespace\n",
    "    for i, val in enumerate(options):\n",
    "        opt_string += f'{val} '\n",
    "    # Call cURL command on system using concatenated string and url-string\n",
    "    return os.system(f'curl ' + opt_string + f'{url}')\n",
    "\n",
    "def mod_file_extension(file, extension='.gz'):\n",
    "    '''Function will replace the file's extension.\n",
    "    \n",
    "    Parameters:\n",
    "    file: <string> file name together with potential directory path\n",
    "    extension: <string> new file name extension (incl. dot) to be used. Default: \".gz\"\n",
    "    \n",
    "    Returns:\n",
    "    os.system call (mv file)\n",
    "    '''\n",
    "    split_string = file.split(sep='.') # splitting file name at \".\", which exclusively\n",
    "    output_file = split_string[0]+extension\n",
    "    return os.system(f'mv {file} {output_file}')\n",
    "\n",
    "def decompress_gz(file, extension='.json'):\n",
    "    '''Function decompresses archive and returns file path.\n",
    "    \n",
    "    Parameters:\n",
    "    file: <string> File to decompress\n",
    "    extension: <string> File extension (incl. dot) for decompressed file. Default: '.json'\n",
    "    \n",
    "    Returns:\n",
    "    <string> path and name of output file (composed of passed file and extension)\n",
    "    '''\n",
    "    split_string = file.split('.')\n",
    "    output_file = split_string[0]+extension\n",
    "    os.system(f'gzip -d -c {file} > {output_file}')\n",
    "    return output_file\n"
   ]
  },
  {
   "cell_type": "code",
   "execution_count": 115,
   "id": "1e7d8a78",
   "metadata": {
    "scrolled": true
   },
   "outputs": [
    {
     "name": "stderr",
     "output_type": "stream",
     "text": [
      "  % Total    % Received % Xferd  Average Speed   Time    Time     Time  Current\n",
      "                                 Dload  Upload   Total   Spent    Left  Speed\n",
      "100   446    0   446    0     0   1441      0 --:--:-- --:--:-- --:--:--  1443\n"
     ]
    }
   ],
   "source": [
    "cURL(url_compositions, '-H \\'Accept-Encoding: gzip\\'', '-o', data_directory+file_name)\n",
    "file_decompressed = decompress_gz(data_directory+file_name)"
   ]
  },
  {
   "cell_type": "code",
   "execution_count": 121,
   "id": "1bd62caf",
   "metadata": {},
   "outputs": [],
   "source": [
    "with open(file_decompressed) as data:\n",
    "    data_raw = json.load(data)"
   ]
  },
  {
   "cell_type": "code",
   "execution_count": 148,
   "id": "2861de00",
   "metadata": {},
   "outputs": [],
   "source": [
    "col_first_layer = pd.json_normalize(data_raw).columns\n",
    "\n",
    "df = pd.json_normalize(\n",
    "    data_raw, record_path = ['journeySections'], \n",
    "    meta=list(col_first_layer.drop('journeySections')),\n",
    "    sep='_'\n",
    ")"
   ]
  },
  {
   "cell_type": "code",
   "execution_count": 149,
   "id": "00d92a67",
   "metadata": {},
   "outputs": [
    {
     "data": {
      "text/plain": [
       "0    [{'location': 4, 'locomotiveType': 'Sr2', 'pow...\n",
       "Name: locomotives, dtype: object"
      ]
     },
     "execution_count": 149,
     "metadata": {},
     "output_type": "execute_result"
    }
   ],
   "source": [
    "df.locomotives"
   ]
  },
  {
   "cell_type": "code",
   "execution_count": 161,
   "id": "d48e0f34",
   "metadata": {},
   "outputs": [
    {
     "ename": "KeyError",
     "evalue": "'journeySection'",
     "output_type": "error",
     "traceback": [
      "\u001b[0;31m---------------------------------------------------------------------------\u001b[0m",
      "\u001b[0;31mKeyError\u001b[0m                                  Traceback (most recent call last)",
      "Cell \u001b[0;32mIn[161], line 1\u001b[0m\n\u001b[0;32m----> 1\u001b[0m \u001b[43mdata_raw\u001b[49m\u001b[43m[\u001b[49m\u001b[38;5;241;43m0\u001b[39;49m\u001b[43m]\u001b[49m\u001b[43m[\u001b[49m\u001b[38;5;124;43m'\u001b[39;49m\u001b[38;5;124;43mjourneySection\u001b[39;49m\u001b[38;5;124;43m'\u001b[39;49m\u001b[43m]\u001b[49m\n",
      "\u001b[0;31mKeyError\u001b[0m: 'journeySection'"
     ]
    }
   ],
   "source": [
    "data_raw[0]['journeySection']"
   ]
  },
  {
   "cell_type": "code",
   "execution_count": 171,
   "id": "090b508c",
   "metadata": {},
   "outputs": [
    {
     "data": {
      "text/plain": [
       "[{'beginTimeTableRow': {'stationShortCode': 'TPE',\n",
       "   'stationUICCode': 160,\n",
       "   'countryCode': 'FI',\n",
       "   'type': 'DEPARTURE',\n",
       "   'scheduledTime': '2023-08-25T11:10:00.000Z'},\n",
       "  'endTimeTableRow': {'stationShortCode': 'TKU',\n",
       "   'stationUICCode': 130,\n",
       "   'countryCode': 'FI',\n",
       "   'type': 'ARRIVAL',\n",
       "   'scheduledTime': '2023-08-25T12:50:00.000Z'},\n",
       "  'locomotives': [{'location': 4,\n",
       "    'locomotiveType': 'Sr2',\n",
       "    'powerType': 'Electric'}],\n",
       "  'wagons': [{'wagonType': 'Edo',\n",
       "    'location': 1,\n",
       "    'salesNumber': 1,\n",
       "    'length': 2740,\n",
       "    'pet': True},\n",
       "   {'wagonType': 'CEd', 'location': 2, 'salesNumber': 2, 'length': 2640},\n",
       "   {'wagonType': 'Edfs',\n",
       "    'location': 3,\n",
       "    'salesNumber': 4,\n",
       "    'length': 2640,\n",
       "    'playground': True,\n",
       "    'disabled': True}],\n",
       "  'totalLength': 99,\n",
       "  'maximumSpeed': 200,\n",
       "  'attapId': 330355115,\n",
       "  'saapAttapId': 330356465}]"
      ]
     },
     "execution_count": 171,
     "metadata": {},
     "output_type": "execute_result"
    }
   ],
   "source": [
    "data_raw[0]['journeySections']"
   ]
  },
  {
   "cell_type": "code",
   "execution_count": 157,
   "id": "3ec3b7c5",
   "metadata": {},
   "outputs": [
    {
     "data": {
      "text/plain": [
       "list"
      ]
     },
     "execution_count": 157,
     "metadata": {},
     "output_type": "execute_result"
    }
   ],
   "source": [
    "type(data_raw)"
   ]
  },
  {
   "cell_type": "code",
   "execution_count": 54,
   "id": "0fe45816",
   "metadata": {},
   "outputs": [
    {
     "data": {
      "text/plain": [
       "{0: [{'beginTimeTableRow': {'stationShortCode': 'PRI',\n",
       "    'stationUICCode': 220,\n",
       "    'countryCode': 'FI',\n",
       "    'type': 'DEPARTURE',\n",
       "    'scheduledTime': '2023-08-25T07:03:00.000Z'},\n",
       "   'endTimeTableRow': {'stationShortCode': 'TPE',\n",
       "    'stationUICCode': 160,\n",
       "    'countryCode': 'FI',\n",
       "    'type': 'ARRIVAL',\n",
       "    'scheduledTime': '2023-08-25T08:36:00.000Z'},\n",
       "   'locomotives': [{'location': 4,\n",
       "     'locomotiveType': 'Sr2',\n",
       "     'powerType': 'Electric'}],\n",
       "   'wagons': [{'wagonType': 'Edo',\n",
       "     'location': 1,\n",
       "     'salesNumber': 1,\n",
       "     'length': 2740,\n",
       "     'pet': True},\n",
       "    {'wagonType': 'CEd', 'location': 2, 'salesNumber': 2, 'length': 2640},\n",
       "    {'wagonType': 'Edfs',\n",
       "     'location': 3,\n",
       "     'salesNumber': 4,\n",
       "     'length': 2640,\n",
       "     'playground': True,\n",
       "     'disabled': True}],\n",
       "   'totalLength': 99,\n",
       "   'maximumSpeed': 140,\n",
       "   'attapId': 365205565,\n",
       "   'saapAttapId': 365207015}]}"
      ]
     },
     "execution_count": 54,
     "metadata": {},
     "output_type": "execute_result"
    }
   ],
   "source": [
    "isinstance(json_dict['journeySections'], type(dict))"
   ]
  },
  {
   "cell_type": "code",
   "execution_count": 48,
   "id": "012c50a6",
   "metadata": {},
   "outputs": [
    {
     "data": {
      "text/plain": [
       "{'trainNumber': {0: 464},\n",
       " 'departureDate': {0: '2023-08-25'},\n",
       " 'operatorUICCode': {0: 10},\n",
       " 'operatorShortCode': {0: 'vr'},\n",
       " 'trainCategory': {0: 'Long-distance'},\n",
       " 'trainType': {0: 'IC'},\n",
       " 'version': {0: 286330743404},\n",
       " 'journeySections': {0: [{'beginTimeTableRow': {'stationShortCode': 'PRI',\n",
       "     'stationUICCode': 220,\n",
       "     'countryCode': 'FI',\n",
       "     'type': 'DEPARTURE',\n",
       "     'scheduledTime': '2023-08-25T07:03:00.000Z'},\n",
       "    'endTimeTableRow': {'stationShortCode': 'TPE',\n",
       "     'stationUICCode': 160,\n",
       "     'countryCode': 'FI',\n",
       "     'type': 'ARRIVAL',\n",
       "     'scheduledTime': '2023-08-25T08:36:00.000Z'},\n",
       "    'locomotives': [{'location': 4,\n",
       "      'locomotiveType': 'Sr2',\n",
       "      'powerType': 'Electric'}],\n",
       "    'wagons': [{'wagonType': 'Edo',\n",
       "      'location': 1,\n",
       "      'salesNumber': 1,\n",
       "      'length': 2740,\n",
       "      'pet': True},\n",
       "     {'wagonType': 'CEd', 'location': 2, 'salesNumber': 2, 'length': 2640},\n",
       "     {'wagonType': 'Edfs',\n",
       "      'location': 3,\n",
       "      'salesNumber': 4,\n",
       "      'length': 2640,\n",
       "      'playground': True,\n",
       "      'disabled': True}],\n",
       "    'totalLength': 99,\n",
       "    'maximumSpeed': 140,\n",
       "    'attapId': 365205565,\n",
       "    'saapAttapId': 365207015}]}}"
      ]
     },
     "execution_count": 48,
     "metadata": {},
     "output_type": "execute_result"
    }
   ],
   "source": [
    "json_dict"
   ]
  },
  {
   "cell_type": "code",
   "execution_count": 42,
   "id": "69995948",
   "metadata": {},
   "outputs": [
    {
     "data": {
      "text/plain": [
       "True"
      ]
     },
     "execution_count": 42,
     "metadata": {},
     "output_type": "execute_result"
    }
   ],
   "source": [
    "isinstance(json_dict['journeySections'], type(dict))"
   ]
  },
  {
   "cell_type": "code",
   "execution_count": null,
   "id": "d7a0e59a",
   "metadata": {},
   "outputs": [],
   "source": []
  }
 ],
 "metadata": {
  "kernelspec": {
   "display_name": "Python 3 (ipykernel)",
   "language": "python",
   "name": "python3"
  },
  "language_info": {
   "codemirror_mode": {
    "name": "ipython",
    "version": 3
   },
   "file_extension": ".py",
   "mimetype": "text/x-python",
   "name": "python",
   "nbconvert_exporter": "python",
   "pygments_lexer": "ipython3",
   "version": "3.10.12"
  }
 },
 "nbformat": 4,
 "nbformat_minor": 5
}
