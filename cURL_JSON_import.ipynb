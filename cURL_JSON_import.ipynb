{
 "cells": [
  {
   "cell_type": "code",
   "execution_count": 1,
   "id": "b2019c08",
   "metadata": {},
   "outputs": [],
   "source": [
    "import pandas as pd"
   ]
  },
  {
   "cell_type": "code",
   "execution_count": 19,
   "id": "6a1e43fc",
   "metadata": {},
   "outputs": [],
   "source": [
    "test = pd.read_json('compositions.json')"
   ]
  },
  {
   "cell_type": "code",
   "execution_count": 20,
   "id": "ed650760",
   "metadata": {},
   "outputs": [],
   "source": [
    "string = test.journeySections"
   ]
  },
  {
   "cell_type": "code",
   "execution_count": 53,
   "id": "f3aa6f7e",
   "metadata": {},
   "outputs": [],
   "source": [
    "json_dict = test.journeySections.to_dict()"
   ]
  },
  {
   "cell_type": "code",
   "execution_count": 30,
   "id": "d8eb1387",
   "metadata": {},
   "outputs": [
    {
     "data": {
      "text/html": [
       "<div>\n",
       "<style scoped>\n",
       "    .dataframe tbody tr th:only-of-type {\n",
       "        vertical-align: middle;\n",
       "    }\n",
       "\n",
       "    .dataframe tbody tr th {\n",
       "        vertical-align: top;\n",
       "    }\n",
       "\n",
       "    .dataframe thead th {\n",
       "        text-align: right;\n",
       "    }\n",
       "</style>\n",
       "<table border=\"1\" class=\"dataframe\">\n",
       "  <thead>\n",
       "    <tr style=\"text-align: right;\">\n",
       "      <th></th>\n",
       "      <th>trainNumber</th>\n",
       "      <th>departureDate</th>\n",
       "      <th>operatorUICCode</th>\n",
       "      <th>operatorShortCode</th>\n",
       "      <th>trainCategory</th>\n",
       "      <th>trainType</th>\n",
       "      <th>version</th>\n",
       "      <th>journeySections</th>\n",
       "    </tr>\n",
       "  </thead>\n",
       "  <tbody>\n",
       "    <tr>\n",
       "      <th>0</th>\n",
       "      <td>464</td>\n",
       "      <td>2023-08-25</td>\n",
       "      <td>10</td>\n",
       "      <td>vr</td>\n",
       "      <td>Long-distance</td>\n",
       "      <td>IC</td>\n",
       "      <td>286330743404</td>\n",
       "      <td>[{'beginTimeTableRow': {'stationShortCode': 'P...</td>\n",
       "    </tr>\n",
       "  </tbody>\n",
       "</table>\n",
       "</div>"
      ],
      "text/plain": [
       "   trainNumber departureDate  operatorUICCode operatorShortCode  \\\n",
       "0          464    2023-08-25               10                vr   \n",
       "\n",
       "   trainCategory trainType       version  \\\n",
       "0  Long-distance        IC  286330743404   \n",
       "\n",
       "                                     journeySections  \n",
       "0  [{'beginTimeTableRow': {'stationShortCode': 'P...  "
      ]
     },
     "execution_count": 30,
     "metadata": {},
     "output_type": "execute_result"
    }
   ],
   "source": [
    "test"
   ]
  },
  {
   "cell_type": "code",
   "execution_count": 54,
   "id": "84437d58",
   "metadata": {},
   "outputs": [
    {
     "data": {
      "text/plain": [
       "{0: [{'beginTimeTableRow': {'stationShortCode': 'PRI',\n",
       "    'stationUICCode': 220,\n",
       "    'countryCode': 'FI',\n",
       "    'type': 'DEPARTURE',\n",
       "    'scheduledTime': '2023-08-25T07:03:00.000Z'},\n",
       "   'endTimeTableRow': {'stationShortCode': 'TPE',\n",
       "    'stationUICCode': 160,\n",
       "    'countryCode': 'FI',\n",
       "    'type': 'ARRIVAL',\n",
       "    'scheduledTime': '2023-08-25T08:36:00.000Z'},\n",
       "   'locomotives': [{'location': 4,\n",
       "     'locomotiveType': 'Sr2',\n",
       "     'powerType': 'Electric'}],\n",
       "   'wagons': [{'wagonType': 'Edo',\n",
       "     'location': 1,\n",
       "     'salesNumber': 1,\n",
       "     'length': 2740,\n",
       "     'pet': True},\n",
       "    {'wagonType': 'CEd', 'location': 2, 'salesNumber': 2, 'length': 2640},\n",
       "    {'wagonType': 'Edfs',\n",
       "     'location': 3,\n",
       "     'salesNumber': 4,\n",
       "     'length': 2640,\n",
       "     'playground': True,\n",
       "     'disabled': True}],\n",
       "   'totalLength': 99,\n",
       "   'maximumSpeed': 140,\n",
       "   'attapId': 365205565,\n",
       "   'saapAttapId': 365207015}]}"
      ]
     },
     "execution_count": 54,
     "metadata": {},
     "output_type": "execute_result"
    }
   ],
   "source": [
    "t"
   ]
  },
  {
   "cell_type": "code",
   "execution_count": 48,
   "id": "de886b0c",
   "metadata": {},
   "outputs": [
    {
     "data": {
      "text/plain": [
       "{'trainNumber': {0: 464},\n",
       " 'departureDate': {0: '2023-08-25'},\n",
       " 'operatorUICCode': {0: 10},\n",
       " 'operatorShortCode': {0: 'vr'},\n",
       " 'trainCategory': {0: 'Long-distance'},\n",
       " 'trainType': {0: 'IC'},\n",
       " 'version': {0: 286330743404},\n",
       " 'journeySections': {0: [{'beginTimeTableRow': {'stationShortCode': 'PRI',\n",
       "     'stationUICCode': 220,\n",
       "     'countryCode': 'FI',\n",
       "     'type': 'DEPARTURE',\n",
       "     'scheduledTime': '2023-08-25T07:03:00.000Z'},\n",
       "    'endTimeTableRow': {'stationShortCode': 'TPE',\n",
       "     'stationUICCode': 160,\n",
       "     'countryCode': 'FI',\n",
       "     'type': 'ARRIVAL',\n",
       "     'scheduledTime': '2023-08-25T08:36:00.000Z'},\n",
       "    'locomotives': [{'location': 4,\n",
       "      'locomotiveType': 'Sr2',\n",
       "      'powerType': 'Electric'}],\n",
       "    'wagons': [{'wagonType': 'Edo',\n",
       "      'location': 1,\n",
       "      'salesNumber': 1,\n",
       "      'length': 2740,\n",
       "      'pet': True},\n",
       "     {'wagonType': 'CEd', 'location': 2, 'salesNumber': 2, 'length': 2640},\n",
       "     {'wagonType': 'Edfs',\n",
       "      'location': 3,\n",
       "      'salesNumber': 4,\n",
       "      'length': 2640,\n",
       "      'playground': True,\n",
       "      'disabled': True}],\n",
       "    'totalLength': 99,\n",
       "    'maximumSpeed': 140,\n",
       "    'attapId': 365205565,\n",
       "    'saapAttapId': 365207015}]}}"
      ]
     },
     "execution_count": 48,
     "metadata": {},
     "output_type": "execute_result"
    }
   ],
   "source": [
    "json_dict"
   ]
  },
  {
   "cell_type": "code",
   "execution_count": 42,
   "id": "71e48dbd",
   "metadata": {},
   "outputs": [
    {
     "data": {
      "text/plain": [
       "True"
      ]
     },
     "execution_count": 42,
     "metadata": {},
     "output_type": "execute_result"
    }
   ],
   "source": [
    "isinstance(json_dict['journeySections'], type(dict))"
   ]
  },
  {
   "cell_type": "code",
   "execution_count": null,
   "id": "56b0c9c3",
   "metadata": {},
   "outputs": [],
   "source": []
  }
 ],
 "metadata": {
  "kernelspec": {
   "display_name": "Python 3 (ipykernel)",
   "language": "python",
   "name": "python3"
  },
  "language_info": {
   "codemirror_mode": {
    "name": "ipython",
    "version": 3
   },
   "file_extension": ".py",
   "mimetype": "text/x-python",
   "name": "python",
   "nbconvert_exporter": "python",
   "pygments_lexer": "ipython3",
   "version": "3.10.12"
  }
 },
 "nbformat": 4,
 "nbformat_minor": 5
}
